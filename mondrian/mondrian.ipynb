{
 "cells": [
  {
   "cell_type": "code",
   "execution_count": 1,
   "metadata": {
    "collapsed": true
   },
   "outputs": [],
   "source": [
    "import warnings\n",
    "warnings.filterwarnings('ignore')\n",
    "\n",
    "from collections import defaultdict\n",
    "import operator\n",
    "\n",
    "import pandas as pd\n",
    "import numpy as np"
   ]
  },
  {
   "cell_type": "code",
   "execution_count": 2,
   "metadata": {
    "collapsed": true
   },
   "outputs": [],
   "source": [
    "ATT_NAME = ['age', 'workclass', 'final_weight', 'education',\n",
    "            'education_num', 'marital_status', 'occupation', 'relationship',\n",
    "            'race', 'sex', 'capital_gain', 'capital_loss', 'hours_per_week',\n",
    "            'native_country', 'class']"
   ]
  },
  {
   "cell_type": "code",
   "execution_count": 3,
   "metadata": {
    "collapsed": false
   },
   "outputs": [],
   "source": [
    "df = pd.read_csv('../data/adult.data', names=ATT_NAME)"
   ]
  },
  {
   "cell_type": "code",
   "execution_count": 4,
   "metadata": {
    "collapsed": false
   },
   "outputs": [
    {
     "data": {
      "text/html": [
       "<div>\n",
       "<table border=\"1\" class=\"dataframe\">\n",
       "  <thead>\n",
       "    <tr style=\"text-align: right;\">\n",
       "      <th></th>\n",
       "      <th>age</th>\n",
       "      <th>workclass</th>\n",
       "      <th>final_weight</th>\n",
       "      <th>education</th>\n",
       "      <th>education_num</th>\n",
       "      <th>marital_status</th>\n",
       "      <th>occupation</th>\n",
       "      <th>relationship</th>\n",
       "      <th>race</th>\n",
       "      <th>sex</th>\n",
       "      <th>capital_gain</th>\n",
       "      <th>capital_loss</th>\n",
       "      <th>hours_per_week</th>\n",
       "      <th>native_country</th>\n",
       "      <th>class</th>\n",
       "    </tr>\n",
       "  </thead>\n",
       "  <tbody>\n",
       "    <tr>\n",
       "      <th>0</th>\n",
       "      <td>39</td>\n",
       "      <td>State-gov</td>\n",
       "      <td>77516</td>\n",
       "      <td>Bachelors</td>\n",
       "      <td>13</td>\n",
       "      <td>Never-married</td>\n",
       "      <td>Adm-clerical</td>\n",
       "      <td>Not-in-family</td>\n",
       "      <td>White</td>\n",
       "      <td>Male</td>\n",
       "      <td>2174</td>\n",
       "      <td>0</td>\n",
       "      <td>40</td>\n",
       "      <td>United-States</td>\n",
       "      <td>&lt;=50K</td>\n",
       "    </tr>\n",
       "    <tr>\n",
       "      <th>1</th>\n",
       "      <td>50</td>\n",
       "      <td>Self-emp-not-inc</td>\n",
       "      <td>83311</td>\n",
       "      <td>Bachelors</td>\n",
       "      <td>13</td>\n",
       "      <td>Married-civ-spouse</td>\n",
       "      <td>Exec-managerial</td>\n",
       "      <td>Husband</td>\n",
       "      <td>White</td>\n",
       "      <td>Male</td>\n",
       "      <td>0</td>\n",
       "      <td>0</td>\n",
       "      <td>13</td>\n",
       "      <td>United-States</td>\n",
       "      <td>&lt;=50K</td>\n",
       "    </tr>\n",
       "    <tr>\n",
       "      <th>2</th>\n",
       "      <td>38</td>\n",
       "      <td>Private</td>\n",
       "      <td>215646</td>\n",
       "      <td>HS-grad</td>\n",
       "      <td>9</td>\n",
       "      <td>Divorced</td>\n",
       "      <td>Handlers-cleaners</td>\n",
       "      <td>Not-in-family</td>\n",
       "      <td>White</td>\n",
       "      <td>Male</td>\n",
       "      <td>0</td>\n",
       "      <td>0</td>\n",
       "      <td>40</td>\n",
       "      <td>United-States</td>\n",
       "      <td>&lt;=50K</td>\n",
       "    </tr>\n",
       "    <tr>\n",
       "      <th>3</th>\n",
       "      <td>53</td>\n",
       "      <td>Private</td>\n",
       "      <td>234721</td>\n",
       "      <td>11th</td>\n",
       "      <td>7</td>\n",
       "      <td>Married-civ-spouse</td>\n",
       "      <td>Handlers-cleaners</td>\n",
       "      <td>Husband</td>\n",
       "      <td>Black</td>\n",
       "      <td>Male</td>\n",
       "      <td>0</td>\n",
       "      <td>0</td>\n",
       "      <td>40</td>\n",
       "      <td>United-States</td>\n",
       "      <td>&lt;=50K</td>\n",
       "    </tr>\n",
       "    <tr>\n",
       "      <th>4</th>\n",
       "      <td>28</td>\n",
       "      <td>Private</td>\n",
       "      <td>338409</td>\n",
       "      <td>Bachelors</td>\n",
       "      <td>13</td>\n",
       "      <td>Married-civ-spouse</td>\n",
       "      <td>Prof-specialty</td>\n",
       "      <td>Wife</td>\n",
       "      <td>Black</td>\n",
       "      <td>Female</td>\n",
       "      <td>0</td>\n",
       "      <td>0</td>\n",
       "      <td>40</td>\n",
       "      <td>Cuba</td>\n",
       "      <td>&lt;=50K</td>\n",
       "    </tr>\n",
       "  </tbody>\n",
       "</table>\n",
       "</div>"
      ],
      "text/plain": [
       "   age          workclass  final_weight   education  education_num  \\\n",
       "0   39          State-gov         77516   Bachelors             13   \n",
       "1   50   Self-emp-not-inc         83311   Bachelors             13   \n",
       "2   38            Private        215646     HS-grad              9   \n",
       "3   53            Private        234721        11th              7   \n",
       "4   28            Private        338409   Bachelors             13   \n",
       "\n",
       "        marital_status          occupation    relationship    race      sex  \\\n",
       "0        Never-married        Adm-clerical   Not-in-family   White     Male   \n",
       "1   Married-civ-spouse     Exec-managerial         Husband   White     Male   \n",
       "2             Divorced   Handlers-cleaners   Not-in-family   White     Male   \n",
       "3   Married-civ-spouse   Handlers-cleaners         Husband   Black     Male   \n",
       "4   Married-civ-spouse      Prof-specialty            Wife   Black   Female   \n",
       "\n",
       "   capital_gain  capital_loss  hours_per_week  native_country   class  \n",
       "0          2174             0              40   United-States   <=50K  \n",
       "1             0             0              13   United-States   <=50K  \n",
       "2             0             0              40   United-States   <=50K  \n",
       "3             0             0              40   United-States   <=50K  \n",
       "4             0             0              40            Cuba   <=50K  "
      ]
     },
     "execution_count": 4,
     "metadata": {},
     "output_type": "execute_result"
    }
   ],
   "source": [
    "df.head()"
   ]
  },
  {
   "cell_type": "code",
   "execution_count": 5,
   "metadata": {
    "collapsed": false
   },
   "outputs": [],
   "source": [
    "def cat_to_num(df):\n",
    "    \"\"\" Convert categorical values to numerical values from 0 to n. \"\"\"\n",
    "    category_maps = defaultdict(dict)\n",
    "    for col in df.columns:\n",
    "        unique_values = sorted(df[col].unique())\n",
    "        if col in CAT_COLS:\n",
    "            for i, v in enumerate(unique_values):\n",
    "                category_maps[col][v] = i\n",
    "            df[col] = df[col].apply(lambda x: category_maps[col][x])\n",
    "    return df, category_maps"
   ]
  },
  {
   "cell_type": "code",
   "execution_count": 6,
   "metadata": {
    "collapsed": true
   },
   "outputs": [],
   "source": [
    "class Partition(object):\n",
    "\n",
    "    def __init__(self, data):\n",
    "        self.df = data\n",
    "        self.disallowed = []\n",
    "\n",
    "    def __len__(self):\n",
    "        return len(self.df)\n",
    "\n",
    "    def get_normalized_width(self):\n",
    "        width = self.df.max() - self.df.min()\n",
    "        return width / np.array(RANGE)\n",
    "\n",
    "    def choose_dimension(self):\n",
    "        # largest amount of unique values first\n",
    "        most_values = sorted([(n, len(col.unique())) for n, col in self.df.iteritems()],\n",
    "                             key=operator.itemgetter(1), reverse=True)\n",
    "        for x,_ in most_values:\n",
    "            if x not in self.disallowed:\n",
    "                return x\n",
    "        return None\n",
    "        # highest normalized width first\n",
    "        # TODO: check what method makes more sense and what exactly the normalized width is suppose to be\n",
    "        # for x in np.argsort(self.get_normalized_width())[::-1].index.values:\n",
    "        #     if x not in self.disallowed:\n",
    "        #         return x\n",
    "        # return None\n",
    "    \n",
    "    def get_split_value(self, dim):\n",
    "        return self.df[dim].median()"
   ]
  },
  {
   "cell_type": "code",
   "execution_count": 7,
   "metadata": {
    "collapsed": false
   },
   "outputs": [],
   "source": [
    "ANOM_COLS = ['age', 'education_num', 'race', 'sex']\n",
    "CAT_COLS = ['race', 'sex']\n",
    "K = 5\n",
    "\n",
    "# select columns to anonymize\n",
    "df_anom = df[ANOM_COLS]\n",
    "# convert categorical values to numerical\n",
    "df_anom, category_maps = cat_to_num(df_anom)\n",
    "# compute range of values\n",
    "RANGE = (df_anom.max() - df_anom.min()).values\n",
    "# subsample\n",
    "# df_anom = df_anom.sample(1000)\n",
    "# create partition object\n",
    "partition = Partition(df_anom)\n",
    "\n",
    "# recursively call mondrian\n",
    "results = []\n",
    "def mondrian(partition):\n",
    "    if len(partition) <= (2 * K + 1):\n",
    "        results.append(partition.df)\n",
    "    else:\n",
    "        dim = partition.choose_dimension()\n",
    "        if dim is None:\n",
    "            results.append(partition.df)\n",
    "        else:\n",
    "            split_val = partition.get_split_value(dim)\n",
    "            if partition.df[dim].max == split_val:\n",
    "                lhs = Partition(partition.df[partition.df[dim] < split_val])\n",
    "                rhs = Partition(partition.df[partition.df[dim] >= split_val])\n",
    "            else:\n",
    "                lhs = Partition(partition.df[partition.df[dim] <= split_val])\n",
    "                rhs = Partition(partition.df[partition.df[dim] > split_val])\n",
    "            if not len(lhs) or not len(rhs):\n",
    "                partition.disallowed.append(dim)\n",
    "                mondrian(partition)\n",
    "            else:\n",
    "                mondrian(lhs)\n",
    "                mondrian(rhs)"
   ]
  },
  {
   "cell_type": "code",
   "execution_count": 8,
   "metadata": {
    "collapsed": false
   },
   "outputs": [],
   "source": [
    "mondrian(partition)"
   ]
  },
  {
   "cell_type": "code",
   "execution_count": 9,
   "metadata": {
    "collapsed": false
   },
   "outputs": [],
   "source": [
    "def aggregate_partitions(partitions):\n",
    "\n",
    "    df_list = []\n",
    "    for res in partitions:\n",
    "        for col in res.columns:\n",
    "            res[col] = int(res[col].mean())\n",
    "        df_list.append(res)\n",
    "\n",
    "    return pd.concat(df_list)"
   ]
  },
  {
   "cell_type": "code",
   "execution_count": 10,
   "metadata": {
    "collapsed": false
   },
   "outputs": [],
   "source": [
    "anom = aggregate_partitions(results)"
   ]
  },
  {
   "cell_type": "code",
   "execution_count": 11,
   "metadata": {
    "collapsed": false
   },
   "outputs": [],
   "source": [
    "def num_to_cat(df, category_maps):\n",
    "    for col in df.columns:\n",
    "        if col in CAT_COLS:\n",
    "            reversed_map = dict([(v, k) for k, v in category_maps[col].items()])\n",
    "            df[col] = df[col].apply(lambda x: reversed_map[x])\n",
    "    return df"
   ]
  },
  {
   "cell_type": "code",
   "execution_count": 12,
   "metadata": {
    "collapsed": false
   },
   "outputs": [],
   "source": [
    "anom = num_to_cat(anom, category_maps)"
   ]
  },
  {
   "cell_type": "code",
   "execution_count": 13,
   "metadata": {
    "collapsed": false
   },
   "outputs": [],
   "source": [
    "tmp = df[df.columns.difference(ANOM_COLS)]"
   ]
  },
  {
   "cell_type": "code",
   "execution_count": 14,
   "metadata": {
    "collapsed": false
   },
   "outputs": [],
   "source": [
    "res = anom.join(tmp)"
   ]
  },
  {
   "cell_type": "code",
   "execution_count": 15,
   "metadata": {
    "collapsed": false
   },
   "outputs": [
    {
     "data": {
      "text/html": [
       "<div>\n",
       "<table border=\"1\" class=\"dataframe\">\n",
       "  <thead>\n",
       "    <tr style=\"text-align: right;\">\n",
       "      <th></th>\n",
       "      <th>age</th>\n",
       "      <th>education_num</th>\n",
       "      <th>race</th>\n",
       "      <th>sex</th>\n",
       "      <th>capital_gain</th>\n",
       "      <th>capital_loss</th>\n",
       "      <th>class</th>\n",
       "      <th>education</th>\n",
       "      <th>final_weight</th>\n",
       "      <th>hours_per_week</th>\n",
       "      <th>marital_status</th>\n",
       "      <th>native_country</th>\n",
       "      <th>occupation</th>\n",
       "      <th>relationship</th>\n",
       "      <th>workclass</th>\n",
       "    </tr>\n",
       "  </thead>\n",
       "  <tbody>\n",
       "    <tr>\n",
       "      <th>106</th>\n",
       "      <td>17</td>\n",
       "      <td>6</td>\n",
       "      <td>Other</td>\n",
       "      <td>Female</td>\n",
       "      <td>34095</td>\n",
       "      <td>0</td>\n",
       "      <td>&lt;=50K</td>\n",
       "      <td>10th</td>\n",
       "      <td>304873</td>\n",
       "      <td>32</td>\n",
       "      <td>Never-married</td>\n",
       "      <td>United-States</td>\n",
       "      <td>?</td>\n",
       "      <td>Own-child</td>\n",
       "      <td>?</td>\n",
       "    </tr>\n",
       "    <tr>\n",
       "      <th>209</th>\n",
       "      <td>17</td>\n",
       "      <td>6</td>\n",
       "      <td>Other</td>\n",
       "      <td>Female</td>\n",
       "      <td>0</td>\n",
       "      <td>0</td>\n",
       "      <td>&lt;=50K</td>\n",
       "      <td>11th</td>\n",
       "      <td>65368</td>\n",
       "      <td>12</td>\n",
       "      <td>Never-married</td>\n",
       "      <td>United-States</td>\n",
       "      <td>Sales</td>\n",
       "      <td>Own-child</td>\n",
       "      <td>Private</td>\n",
       "    </tr>\n",
       "    <tr>\n",
       "      <th>262</th>\n",
       "      <td>17</td>\n",
       "      <td>6</td>\n",
       "      <td>Other</td>\n",
       "      <td>Female</td>\n",
       "      <td>0</td>\n",
       "      <td>0</td>\n",
       "      <td>&lt;=50K</td>\n",
       "      <td>11th</td>\n",
       "      <td>245918</td>\n",
       "      <td>12</td>\n",
       "      <td>Never-married</td>\n",
       "      <td>United-States</td>\n",
       "      <td>Other-service</td>\n",
       "      <td>Own-child</td>\n",
       "      <td>Private</td>\n",
       "    </tr>\n",
       "    <tr>\n",
       "      <th>271</th>\n",
       "      <td>17</td>\n",
       "      <td>6</td>\n",
       "      <td>Other</td>\n",
       "      <td>Female</td>\n",
       "      <td>1055</td>\n",
       "      <td>0</td>\n",
       "      <td>&lt;=50K</td>\n",
       "      <td>9th</td>\n",
       "      <td>191260</td>\n",
       "      <td>24</td>\n",
       "      <td>Never-married</td>\n",
       "      <td>United-States</td>\n",
       "      <td>Other-service</td>\n",
       "      <td>Own-child</td>\n",
       "      <td>Private</td>\n",
       "    </tr>\n",
       "    <tr>\n",
       "      <th>335</th>\n",
       "      <td>17</td>\n",
       "      <td>6</td>\n",
       "      <td>Other</td>\n",
       "      <td>Female</td>\n",
       "      <td>0</td>\n",
       "      <td>0</td>\n",
       "      <td>&lt;=50K</td>\n",
       "      <td>5th-6th</td>\n",
       "      <td>270942</td>\n",
       "      <td>48</td>\n",
       "      <td>Never-married</td>\n",
       "      <td>Mexico</td>\n",
       "      <td>Other-service</td>\n",
       "      <td>Other-relative</td>\n",
       "      <td>Private</td>\n",
       "    </tr>\n",
       "  </tbody>\n",
       "</table>\n",
       "</div>"
      ],
      "text/plain": [
       "     age  education_num    race      sex  capital_gain  capital_loss   class  \\\n",
       "106   17              6   Other   Female         34095             0   <=50K   \n",
       "209   17              6   Other   Female             0             0   <=50K   \n",
       "262   17              6   Other   Female             0             0   <=50K   \n",
       "271   17              6   Other   Female          1055             0   <=50K   \n",
       "335   17              6   Other   Female             0             0   <=50K   \n",
       "\n",
       "    education  final_weight  hours_per_week  marital_status  native_country  \\\n",
       "106      10th        304873              32   Never-married   United-States   \n",
       "209      11th         65368              12   Never-married   United-States   \n",
       "262      11th        245918              12   Never-married   United-States   \n",
       "271       9th        191260              24   Never-married   United-States   \n",
       "335   5th-6th        270942              48   Never-married          Mexico   \n",
       "\n",
       "         occupation     relationship workclass  \n",
       "106               ?        Own-child         ?  \n",
       "209           Sales        Own-child   Private  \n",
       "262   Other-service        Own-child   Private  \n",
       "271   Other-service        Own-child   Private  \n",
       "335   Other-service   Other-relative   Private  "
      ]
     },
     "execution_count": 15,
     "metadata": {},
     "output_type": "execute_result"
    }
   ],
   "source": [
    "res.head()"
   ]
  }
 ],
 "metadata": {
  "anaconda-cloud": {},
  "kernelspec": {
   "display_name": "Python [conda env:py3]",
   "language": "python",
   "name": "conda-env-py3-py"
  },
  "language_info": {
   "codemirror_mode": {
    "name": "ipython",
    "version": 3
   },
   "file_extension": ".py",
   "mimetype": "text/x-python",
   "name": "python",
   "nbconvert_exporter": "python",
   "pygments_lexer": "ipython3",
   "version": "3.5.2"
  }
 },
 "nbformat": 4,
 "nbformat_minor": 1
}
